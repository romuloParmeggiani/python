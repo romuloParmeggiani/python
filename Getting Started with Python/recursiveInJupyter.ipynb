{
 "cells": [
  {
   "cell_type": "markdown",
   "metadata": {},
   "source": [
    "Common pattern in recurssive funcions is that:\n",
    "- Body begins with one or more base cases.\n",
    "    - Base case is the simplest, minor, last iteration of it.\n",
    "- Afterwards we have defined one or more recurssive cases.\n",
    "    - Recursive case is whenever it should recall it over and over.\n",
    "- Recurssive functions should simplify/resolve problems in stages."
   ]
  },
  {
   "cell_type": "code",
   "execution_count": 1,
   "metadata": {},
   "outputs": [],
   "source": [
    "# Defining a rescurssive function to return the factorial of a\n",
    "# positive intenger.\n",
    "def factorial(n):\n",
    "    if n == 1:\n",
    "        return 1\n",
    "    else:\n",
    "        return n * factorial(n-1)"
   ]
  },
  {
   "cell_type": "code",
   "execution_count": 2,
   "metadata": {},
   "outputs": [
    {
     "name": "stdout",
     "output_type": "stream",
     "text": [
      "6\n"
     ]
    }
   ],
   "source": [
    "print(factorial(3))"
   ]
  },
  {
   "cell_type": "code",
   "execution_count": 1,
   "metadata": {},
   "outputs": [],
   "source": [
    "# Defining a recursive function to sum all digits of a number\n",
    "# It should return the sum of all positive integers in number n\n",
    "def sumDigits(n):\n",
    "    # If number is only one digit no sum is required\n",
    "    # Simply should return the number itself\n",
    "    if n < 10:\n",
    "        return n\n",
    "    # if number is greater then two digits (n > 10)\n",
    "    else:\n",
    "        # Using integer division(//) to retrieve all digits before last\n",
    "        allButLastNumber = n // 10\n",
    "        # Using modulus of 10 to retrive only the last digit\n",
    "        lastNumber = n % 10\n",
    "        return sumDigits(allButLastNumber) + lastNumber"
   ]
  },
  {
   "cell_type": "code",
   "execution_count": 4,
   "metadata": {},
   "outputs": [
    {
     "name": "stdout",
     "output_type": "stream",
     "text": [
      "45\n"
     ]
    }
   ],
   "source": [
    "print(sumDigits(123456789))"
   ]
  },
  {
   "cell_type": "code",
   "execution_count": 20,
   "metadata": {},
   "outputs": [],
   "source": [
    "# Defining a recursive function to return the nTH number in\n",
    "# the Fibonacci sequence\n",
    "def fibonacciThNumber(n):\n",
    "    if n == 1:\n",
    "        return 1\n",
    "    elif n == 2:\n",
    "        return 2\n",
    "    else:\n",
    "        return fibonacciThNumber(n-1) + fibonacciThNumber(n-2)\n",
    "# Defining a funcion to return a list of the first n numbers\n",
    "# in the FIbonacci sequence\n",
    "def fibonacciSequence(n):\n",
    "    fibonacciList = []\n",
    "    for number in range(1, n):\n",
    "        fibonacciList.append(fibonacciThNumber(number))\n",
    "    return fibonacciList"
   ]
  },
  {
   "cell_type": "code",
   "execution_count": 15,
   "metadata": {},
   "outputs": [
    {
     "name": "stdout",
     "output_type": "stream",
     "text": [
      "34\n"
     ]
    }
   ],
   "source": [
    "print(fibonacciThNumber(8))"
   ]
  },
  {
   "cell_type": "code",
   "execution_count": 21,
   "metadata": {},
   "outputs": [
    {
     "name": "stdout",
     "output_type": "stream",
     "text": [
      "[1, 2, 3, 5, 8, 13, 21]\n"
     ]
    }
   ],
   "source": [
    "print(fibonacciSequence(8))"
   ]
  }
 ],
 "metadata": {
  "kernelspec": {
   "display_name": "Python 3.9.13 64-bit",
   "language": "python",
   "name": "python3"
  },
  "language_info": {
   "codemirror_mode": {
    "name": "ipython",
    "version": 3
   },
   "file_extension": ".py",
   "mimetype": "text/x-python",
   "name": "python",
   "nbconvert_exporter": "python",
   "pygments_lexer": "ipython3",
   "version": "3.9.13"
  },
  "orig_nbformat": 4,
  "vscode": {
   "interpreter": {
    "hash": "aee8b7b246df8f9039afb4144a1f6fd8d2ca17a180786b69acc140d282b71a49"
   }
  }
 },
 "nbformat": 4,
 "nbformat_minor": 2
}
